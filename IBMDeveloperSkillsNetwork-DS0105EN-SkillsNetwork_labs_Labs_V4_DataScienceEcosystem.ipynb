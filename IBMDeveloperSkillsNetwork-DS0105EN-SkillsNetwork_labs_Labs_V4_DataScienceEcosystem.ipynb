{
  "metadata": {
    "language_info": {
      "codemirror_mode": {
        "name": "python",
        "version": 3
      },
      "file_extension": ".py",
      "mimetype": "text/x-python",
      "name": "python",
      "nbconvert_exporter": "python",
      "pygments_lexer": "ipython3",
      "version": "3.8"
    },
    "kernelspec": {
      "name": "python",
      "display_name": "Pyolite",
      "language": "python"
    }
  },
  "nbformat_minor": 4,
  "nbformat": 4,
  "cells": [
    {
      "cell_type": "markdown",
      "source": "# Data Science Tools and Ecosystem",
      "metadata": {}
    },
    {
      "cell_type": "markdown",
      "source": "### In this notebook, Data Science Tools and Ecosystem are summarized.",
      "metadata": {}
    },
    {
      "cell_type": "markdown",
      "source": "##### Some of the popular languages that Data Scientists use are:\n1. Python\n2. R\n3. SQL\n\nPython and R are two of the most widely used programming languages in data science. Python's simplicity and versatility make it popular for various data analysis tasks, while R is renowned for its statistical capabilities and extensive data visualization libraries. SQL is essential for working with databases and querying large datasets in data science projects.\n\nOther languages like Julia, Scala, and MATLAB are also used in specific data science domains, but Python, R, and SQL remain at the forefront of data science language choices.",
      "metadata": {}
    },
    {
      "cell_type": "markdown",
      "source": "##### Some of the commonly used libraries used by Data Scientists include:\n\n1. NumPy: A fundamental library for numerical computing in Python, providing efficient data structures and functions for array operations.\n\n2. Pandas: A versatile library for data manipulation and analysis in Python, offering powerful data structures (e.g., DataFrames) and tools for data cleaning, exploration, and transformation.\n\n3. Matplotlib: A widely used plotting library in Python that allows the creation of a variety of static, animated, and interactive visualizations.\n\n4. Scikit-learn: A comprehensive machine learning library in Python, providing efficient implementations of various algorithms for classification, regression, clustering, and more.\n\n5. TensorFlow: An open-source deep learning library developed by Google, offering a flexible ecosystem for building and training neural networks.\n\n6. Keras: A high-level neural networks API in Python that runs on top of TensorFlow, simplifying the process of building and experimenting with deep learning models.\n\nThese libraries, along with many others, form the foundation of data science workflows and enable data scientists to perform tasks such as data manipulation, visualization, machine learning, and deep learning with ease.\n",
      "metadata": {}
    },
    {
      "cell_type": "markdown",
      "source": "| Data Science Tools |\n|-------------------|\n| Jupyter Notebook  |\n| RStudio           |\n| VS Code           |",
      "metadata": {}
    },
    {
      "cell_type": "markdown",
      "source": "### Below are a few examples of evaluating arithmetic expressions in Python",
      "metadata": {}
    },
    {
      "cell_type": "code",
      "source": "##### This is a simple arithmetic expression to multiply then add integers.\nresult = (3 * 4) + 5\nprint(result)  \n##### Output: ",
      "metadata": {
        "trusted": true
      },
      "execution_count": 12,
      "outputs": [
        {
          "name": "stdout",
          "text": "17\n",
          "output_type": "stream"
        }
      ]
    },
    {
      "cell_type": "code",
      "source": "##### This will convert 200 minutes to hours by dividing by 60.\nminutes = 200\nhours = minutes / 60\nprint(hours)  \n##### Output: ",
      "metadata": {
        "trusted": true
      },
      "execution_count": 20,
      "outputs": [
        {
          "name": "stdout",
          "text": "3.3333333333333335\n",
          "output_type": "stream"
        }
      ]
    },
    {
      "cell_type": "markdown",
      "source": "**Objectives: **\n\n- List popular languages for Data Science (Python, R ,SQL)\n- Identify commonly used libraries in Data Science (NumPy, Pandas, TensorFlow, etc.)\n- Understand arithmetic expressions and evaluation in Python\n- Convert minutes to hours using Python\n- Understand how to create and format markdown cells in Jupyter.\n\nThese objectives represent some of the key takeaways covered in this notebook. By exploring these topics, we can gain a better understanding of essential concepts and tools used in Data Science.",
      "metadata": {}
    },
    {
      "cell_type": "markdown",
      "source": "## Author\nAmarendra Mohan",
      "metadata": {}
    },
    {
      "cell_type": "code",
      "source": "",
      "metadata": {},
      "execution_count": null,
      "outputs": []
    }
  ]
}